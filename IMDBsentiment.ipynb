{
  "nbformat": 4,
  "nbformat_minor": 0,
  "metadata": {
    "colab": {
      "name": "IMDBsentiment.ipynb",
      "provenance": []
    },
    "kernelspec": {
      "name": "python3",
      "display_name": "Python 3"
    },
    "language_info": {
      "name": "python"
    }
  },
  "cells": [
    {
      "cell_type": "code",
      "metadata": {
        "colab": {
          "resources": {
            "http://localhost:8080/nbextensions/google.colab/files.js": {
              "data": "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",
              "ok": true,
              "headers": [
                [
                  "content-type",
                  "application/javascript"
                ]
              ],
              "status": 200,
              "status_text": "OK"
            }
          },
          "base_uri": "https://localhost:8080/",
          "height": 133
        },
        "id": "C_JyNFaWF0-i",
        "outputId": "81d683ba-fc42-4a63-e42c-a27321456901"
      },
      "source": [
        "from google.colab import files\n",
        "\n",
        "files.upload()\n",
        "\n",
        "! mkdir ~/.kaggle\n",
        "\n",
        "! cp kaggle.json ~/.kaggle/\n",
        "\n",
        "! chmod 600 ~/.kaggle/kaggle.json\n",
        "\n",
        "!kaggle datasets download -d columbine/imdb-dataset-sentiment-analysis-in-csv-format"
      ],
      "execution_count": null,
      "outputs": [
        {
          "output_type": "display_data",
          "data": {
            "text/html": [
              "\n",
              "     <input type=\"file\" id=\"files-2118c7f1-316a-4733-94fe-0c54af0c2ec1\" name=\"files[]\" multiple disabled\n",
              "        style=\"border:none\" />\n",
              "     <output id=\"result-2118c7f1-316a-4733-94fe-0c54af0c2ec1\">\n",
              "      Upload widget is only available when the cell has been executed in the\n",
              "      current browser session. Please rerun this cell to enable.\n",
              "      </output>\n",
              "      <script src=\"/nbextensions/google.colab/files.js\"></script> "
            ],
            "text/plain": [
              "<IPython.core.display.HTML object>"
            ]
          },
          "metadata": {
            "tags": []
          }
        },
        {
          "output_type": "stream",
          "text": [
            "Saving kaggle.json to kaggle.json\n",
            "Downloading imdb-dataset-sentiment-analysis-in-csv-format.zip to /content\n",
            " 35% 9.00M/25.7M [00:00<00:00, 59.2MB/s]\n",
            "100% 25.7M/25.7M [00:00<00:00, 102MB/s] \n"
          ],
          "name": "stdout"
        }
      ]
    },
    {
      "cell_type": "code",
      "metadata": {
        "id": "U7KPe7oyFunm"
      },
      "source": [
        "import zipfile\n",
        "zp = zipfile.ZipFile('/content/imdb-dataset-sentiment-analysis-in-csv-format.zip','r')\n",
        "zp.extractall()\n",
        "\n",
        "zp = zipfile.ZipFile('/content/drive/MyDrive/glove.6B.zip','r')\n",
        "zp.extractall()"
      ],
      "execution_count": null,
      "outputs": []
    },
    {
      "cell_type": "code",
      "metadata": {
        "id": "jQt_hxbaHBuU"
      },
      "source": [
        "import pandas as pd\n",
        "import numpy as np\n",
        "import os\n",
        "import re\n",
        "import tensorflow as tf\n",
        "from tensorflow.keras.models import Sequential\n",
        "from tensorflow.keras.preprocessing.text import one_hot\n",
        "from tensorflow.keras.preprocessing.sequence import pad_sequences\n",
        "from tensorflow.keras import layers\n"
      ],
      "execution_count": null,
      "outputs": []
    },
    {
      "cell_type": "code",
      "metadata": {
        "id": "d7SGvpuaISmQ"
      },
      "source": [
        "word2idx = {}\n",
        "glove_dict = {}\n",
        "with open('/content/glove.6B.100d.txt','r') as g:\n",
        "  for i,line in enumerate(g):\n",
        "    word = line.split()[0]\n",
        "    vec = np.array(line.split()[1:],dtype='float32')\n",
        "    word2idx[word]=i\n",
        "    glove_dict[word]=vec\n"
      ],
      "execution_count": null,
      "outputs": []
    },
    {
      "cell_type": "code",
      "metadata": {
        "colab": {
          "base_uri": "https://localhost:8080/"
        },
        "id": "BM63YUuVLCH7",
        "outputId": "8152649b-ab5d-4741-eb69-3de01f0690c4"
      },
      "source": [
        "traindf = pd.read_csv('/content/Train.csv')\n",
        "testdf = pd.read_csv('/content/Test.csv')\n",
        "validdf = pd.read_csv('/content/Valid.csv')\n",
        "\n",
        "print(traindf.head())\n",
        "print(testdf.head())\n",
        "print(validdf.head())"
      ],
      "execution_count": null,
      "outputs": [
        {
          "output_type": "stream",
          "text": [
            "                                                text  label\n",
            "0  I grew up (b. 1965) watching and loving the Th...      0\n",
            "1  When I put this movie in my DVD player, and sa...      0\n",
            "2  Why do people who do not know what a particula...      0\n",
            "3  Even though I have great interest in Biblical ...      0\n",
            "4  Im a die hard Dads Army fan and nothing will e...      1\n",
            "                                                text  label\n",
            "0  I always wrote this series off as being a comp...      0\n",
            "1  1st watched 12/7/2002 - 3 out of 10(Dir-Steve ...      0\n",
            "2  This movie was so poorly written and directed ...      0\n",
            "3  The most interesting thing about Miryang (Secr...      1\n",
            "4  when i first read about \"berlin am meer\" i did...      0\n",
            "                                                text  label\n",
            "0  It's been about 14 years since Sharon Stone aw...      0\n",
            "1  someone needed to make a car payment... this i...      0\n",
            "2  The Guidelines state that a comment must conta...      0\n",
            "3  This movie is a muddled mish-mash of clichés f...      0\n",
            "4  Before Stan Laurel became the smaller half of ...      0\n"
          ],
          "name": "stdout"
        }
      ]
    },
    {
      "cell_type": "code",
      "metadata": {
        "colab": {
          "base_uri": "https://localhost:8080/"
        },
        "id": "6BB5XmJBLzqG",
        "outputId": "8af578e0-14ad-4abd-9bd4-53dcf0137436"
      },
      "source": [
        "def textcleaner(s):\n",
        "  s = re.sub('[^a-zA-Z\\s]','',s)\n",
        "  s = s.lower()\n",
        "  return s\n",
        "\n",
        "traindf['cleaned_text'] = traindf['text'].apply(lambda x:textcleaner(x))\n",
        "testdf['cleaned_text'] = testdf['text'].apply(lambda x:textcleaner(x))\n",
        "validdf['cleaned_text'] = validdf['text'].apply(lambda x:textcleaner(x))\n",
        "\n",
        "print(traindf.head())\n",
        "print(testdf.head())\n",
        "print(validdf.head())"
      ],
      "execution_count": null,
      "outputs": [
        {
          "output_type": "stream",
          "text": [
            "                                                text  ...                                       cleaned_text\n",
            "0  I grew up (b. 1965) watching and loving the Th...  ...  i grew up b  watching and loving the thunderbi...\n",
            "1  When I put this movie in my DVD player, and sa...  ...  when i put this movie in my dvd player and sat...\n",
            "2  Why do people who do not know what a particula...  ...  why do people who do not know what a particula...\n",
            "3  Even though I have great interest in Biblical ...  ...  even though i have great interest in biblical ...\n",
            "4  Im a die hard Dads Army fan and nothing will e...  ...  im a die hard dads army fan and nothing will e...\n",
            "\n",
            "[5 rows x 3 columns]\n",
            "                                                text  ...                                       cleaned_text\n",
            "0  I always wrote this series off as being a comp...  ...  i always wrote this series off as being a comp...\n",
            "1  1st watched 12/7/2002 - 3 out of 10(Dir-Steve ...  ...  st watched    out of dirsteve purcell typical ...\n",
            "2  This movie was so poorly written and directed ...  ...  this movie was so poorly written and directed ...\n",
            "3  The most interesting thing about Miryang (Secr...  ...  the most interesting thing about miryang secre...\n",
            "4  when i first read about \"berlin am meer\" i did...  ...  when i first read about berlin am meer i didnt...\n",
            "\n",
            "[5 rows x 3 columns]\n",
            "                                                text  ...                                       cleaned_text\n",
            "0  It's been about 14 years since Sharon Stone aw...  ...  its been about  years since sharon stone award...\n",
            "1  someone needed to make a car payment... this i...  ...  someone needed to make a car payment this is t...\n",
            "2  The Guidelines state that a comment must conta...  ...  the guidelines state that a comment must conta...\n",
            "3  This movie is a muddled mish-mash of clichés f...  ...  this movie is a muddled mishmash of clichs fro...\n",
            "4  Before Stan Laurel became the smaller half of ...  ...  before stan laurel became the smaller half of ...\n",
            "\n",
            "[5 rows x 3 columns]\n"
          ],
          "name": "stdout"
        }
      ]
    },
    {
      "cell_type": "code",
      "metadata": {
        "colab": {
          "base_uri": "https://localhost:8080/"
        },
        "id": "f0WyOCxQNoUp",
        "outputId": "8f711648-5add-493b-823f-fe3d4828905c"
      },
      "source": [
        "MAXLEN = 1000\n",
        "\n",
        "def text2sequence(corpus):\n",
        "  ohe_seq = []\n",
        "  for line in corpus:\n",
        "    line_seq = []\n",
        "    try:\n",
        "      for w in line.split():\n",
        "        line_seq.append(word2idx[w])\n",
        "    except:\n",
        "      pass\n",
        "    ohe_seq.append(line_seq)\n",
        "  padded_seq = pad_sequences(ohe_seq,maxlen=MAXLEN)\n",
        "  return np.array(padded_seq, dtype='int32')\n",
        "\n",
        "valid_padded = text2sequence(validdf['cleaned_text'])\n",
        "print(valid_padded.shape)\n",
        "\n",
        "train_padded = text2sequence(traindf['cleaned_text'])\n",
        "print(train_padded.shape, traindf.shape)\n",
        "\n",
        "test_padded = text2sequence(testdf['cleaned_text'])\n",
        "print(test_padded.shape, testdf.shape)\n",
        "\n",
        "train_label = traindf['label'].values\n",
        "test_label = testdf['label'].values\n",
        "valid_label = validdf['label'].values"
      ],
      "execution_count": null,
      "outputs": [
        {
          "output_type": "stream",
          "text": [
            "(5000, 1000)\n",
            "(40000, 1000) (40000, 3)\n",
            "(5000, 1000) (5000, 3)\n"
          ],
          "name": "stdout"
        }
      ]
    },
    {
      "cell_type": "code",
      "metadata": {
        "id": "2o5HsCunSjzn"
      },
      "source": [
        "VOCAB_SIZE = len(glove_dict)\n",
        "GLOVE_DIM = 100\n",
        "embedding_matrix = np.zeros((VOCAB_SIZE,GLOVE_DIM),dtype='float32')\n",
        "\n",
        "for w,v in glove_dict.items():\n",
        "  idx = word2idx.get(w)\n",
        "  embedding_matrix[idx] = v\n",
        "\n",
        "embedding_layer = layers.Embedding(input_dim=VOCAB_SIZE,\n",
        "                                   output_dim=GLOVE_DIM,\n",
        "                                   input_length=MAXLEN,\n",
        "                                   weights=[embedding_matrix],\n",
        "                                   trainable=False)\n"
      ],
      "execution_count": null,
      "outputs": []
    },
    {
      "cell_type": "code",
      "metadata": {
        "colab": {
          "base_uri": "https://localhost:8080/"
        },
        "id": "qWNFIxe4VyaE",
        "outputId": "cc1475fd-ceb2-4d07-93f9-27dc489e0296"
      },
      "source": [
        "model = Sequential()\n",
        "model.add(embedding_layer)\n",
        "model.add(layers.Conv1D(filters=128,kernel_size=4,activation='relu'))\n",
        "model.add(layers.MaxPool1D(pool_size=2,strides=2))\n",
        "model.add(layers.Dropout(0.5))\n",
        "model.add(layers.Conv1D(filters=32,kernel_size=4,activation='relu'))\n",
        "model.add(layers.MaxPool1D(pool_size=2,strides=2))\n",
        "model.add(layers.Flatten())\n",
        "#model.add(layers.Dropout(0.5))\n",
        "#model.add(layers.Dense(128,activation='relu'))\n",
        "model.add(layers.Dense(1,activation='sigmoid'))\n",
        "\n",
        "print(model.summary())\n"
      ],
      "execution_count": null,
      "outputs": [
        {
          "output_type": "stream",
          "text": [
            "Model: \"sequential_7\"\n",
            "_________________________________________________________________\n",
            "Layer (type)                 Output Shape              Param #   \n",
            "=================================================================\n",
            "embedding (Embedding)        (None, 1000, 100)         40000000  \n",
            "_________________________________________________________________\n",
            "conv1d_14 (Conv1D)           (None, 997, 128)          51328     \n",
            "_________________________________________________________________\n",
            "max_pooling1d_14 (MaxPooling (None, 498, 128)          0         \n",
            "_________________________________________________________________\n",
            "dropout_11 (Dropout)         (None, 498, 128)          0         \n",
            "_________________________________________________________________\n",
            "conv1d_15 (Conv1D)           (None, 495, 32)           16416     \n",
            "_________________________________________________________________\n",
            "max_pooling1d_15 (MaxPooling (None, 247, 32)           0         \n",
            "_________________________________________________________________\n",
            "flatten_6 (Flatten)          (None, 7904)              0         \n",
            "_________________________________________________________________\n",
            "dense_14 (Dense)             (None, 1)                 7905      \n",
            "=================================================================\n",
            "Total params: 40,075,649\n",
            "Trainable params: 75,649\n",
            "Non-trainable params: 40,000,000\n",
            "_________________________________________________________________\n",
            "None\n"
          ],
          "name": "stdout"
        }
      ]
    },
    {
      "cell_type": "code",
      "metadata": {
        "colab": {
          "base_uri": "https://localhost:8080/"
        },
        "id": "kEUGvMoiX-P2",
        "outputId": "23fefe48-eaac-4d93-8f06-ac01730f07c8"
      },
      "source": [
        "callback = tf.keras.callbacks.EarlyStopping(\n",
        "    monitor=\"val_loss\",\n",
        "    patience=5,\n",
        "    mode=\"auto\")\n",
        "\n",
        "model.compile(optimizer='rmsprop',loss='binary_crossentropy',metrics=['accuracy'])\n",
        "history = model.fit(train_padded,train_label,batch_size=64,epochs=20,callbacks=[callback],\n",
        "          validation_data=(valid_padded,valid_label),validation_batch_size=32)"
      ],
      "execution_count": null,
      "outputs": [
        {
          "output_type": "stream",
          "text": [
            "Epoch 1/20\n",
            "625/625 [==============================] - 12s 18ms/step - loss: 0.7232 - accuracy: 0.5552 - val_loss: 0.5669 - val_accuracy: 0.6812\n",
            "Epoch 2/20\n",
            "625/625 [==============================] - 11s 18ms/step - loss: 0.5733 - accuracy: 0.6797 - val_loss: 0.5610 - val_accuracy: 0.6870\n",
            "Epoch 3/20\n",
            "625/625 [==============================] - 11s 18ms/step - loss: 0.5361 - accuracy: 0.6997 - val_loss: 0.5284 - val_accuracy: 0.7244\n",
            "Epoch 4/20\n",
            "625/625 [==============================] - 11s 18ms/step - loss: 0.5189 - accuracy: 0.7169 - val_loss: 0.5191 - val_accuracy: 0.7246\n",
            "Epoch 5/20\n",
            "625/625 [==============================] - 11s 18ms/step - loss: 0.5034 - accuracy: 0.7282 - val_loss: 0.5184 - val_accuracy: 0.7250\n",
            "Epoch 6/20\n",
            "625/625 [==============================] - 11s 18ms/step - loss: 0.5026 - accuracy: 0.7290 - val_loss: 0.5132 - val_accuracy: 0.7246\n",
            "Epoch 7/20\n",
            "625/625 [==============================] - 11s 18ms/step - loss: 0.4782 - accuracy: 0.7437 - val_loss: 0.5278 - val_accuracy: 0.7202\n",
            "Epoch 8/20\n",
            "625/625 [==============================] - 11s 18ms/step - loss: 0.4762 - accuracy: 0.7472 - val_loss: 0.5064 - val_accuracy: 0.7310\n",
            "Epoch 9/20\n",
            "625/625 [==============================] - 11s 18ms/step - loss: 0.4675 - accuracy: 0.7476 - val_loss: 0.5145 - val_accuracy: 0.7278\n",
            "Epoch 10/20\n",
            "625/625 [==============================] - 11s 18ms/step - loss: 0.4610 - accuracy: 0.7529 - val_loss: 0.5031 - val_accuracy: 0.7402\n",
            "Epoch 11/20\n",
            "625/625 [==============================] - 11s 18ms/step - loss: 0.4543 - accuracy: 0.7569 - val_loss: 0.5130 - val_accuracy: 0.7344\n",
            "Epoch 12/20\n",
            "625/625 [==============================] - 11s 18ms/step - loss: 0.4444 - accuracy: 0.7670 - val_loss: 0.5113 - val_accuracy: 0.7256\n",
            "Epoch 13/20\n",
            "625/625 [==============================] - 11s 18ms/step - loss: 0.4420 - accuracy: 0.7671 - val_loss: 0.5187 - val_accuracy: 0.7258\n",
            "Epoch 14/20\n",
            "625/625 [==============================] - 11s 18ms/step - loss: 0.4371 - accuracy: 0.7686 - val_loss: 0.5091 - val_accuracy: 0.7316\n",
            "Epoch 15/20\n",
            "625/625 [==============================] - 11s 18ms/step - loss: 0.4286 - accuracy: 0.7726 - val_loss: 0.5103 - val_accuracy: 0.7380\n"
          ],
          "name": "stdout"
        }
      ]
    },
    {
      "cell_type": "code",
      "metadata": {
        "colab": {
          "base_uri": "https://localhost:8080/",
          "height": 590
        },
        "id": "0NcM_FBhaXcL",
        "outputId": "406429f1-6c22-4529-ad1d-be08344ce153"
      },
      "source": [
        "import matplotlib.pyplot as plt\n",
        "\n",
        "print(history.history.keys())\n",
        "\n",
        "# summarize history for accuracy\n",
        "plt.plot(history.history['accuracy'])\n",
        "plt.plot(history.history['val_accuracy'])\n",
        "plt.title('model accuracy')\n",
        "plt.ylabel('accuracy')\n",
        "plt.xlabel('epoch')\n",
        "plt.legend(['train', 'valid'], loc='upper left')\n",
        "plt.show()\n",
        "# summarize history for loss\n",
        "plt.plot(history.history['loss'])\n",
        "plt.plot(history.history['val_loss'])\n",
        "plt.title('model loss')\n",
        "plt.ylabel('loss')\n",
        "plt.xlabel('epoch')\n",
        "plt.legend(['train', 'valid'], loc='upper left')\n",
        "plt.show()"
      ],
      "execution_count": null,
      "outputs": [
        {
          "output_type": "stream",
          "text": [
            "dict_keys(['loss', 'accuracy', 'val_loss', 'val_accuracy'])\n"
          ],
          "name": "stdout"
        },
        {
          "output_type": "display_data",
          "data": {
            "image/png": "[encoded data removed]",
            "text/plain": [
              "<Figure size 432x288 with 1 Axes>"
            ]
          },
          "metadata": {
            "tags": [],
            "needs_background": "light"
          }
        },
        {
          "output_type": "display_data",
          "data": {
            "image/png": "[encoded data removed]",
            "text/plain": [
              "<Figure size 432x288 with 1 Axes>"
            ]
          },
          "metadata": {
            "tags": [],
            "needs_background": "light"
          }
        }
      ]
    },
    {
      "cell_type": "code",
      "metadata": {
        "colab": {
          "base_uri": "https://localhost:8080/"
        },
        "id": "CtAJNJH7qK95",
        "outputId": "4a031a17-8cf3-4ad8-8711-ccfc10d54575"
      },
      "source": [
        "model = Sequential()\n",
        "model.add(embedding_layer)\n",
        "model.add(tf.compat.v1.keras.layers.CuDNNLSTM(196))\n",
        "model.add(layers.Dense(1,activation='sigmoid'))\n",
        "print(model.summary())\n"
      ],
      "execution_count": null,
      "outputs": [
        {
          "output_type": "stream",
          "text": [
            "Model: \"sequential_12\"\n",
            "_________________________________________________________________\n",
            "Layer (type)                 Output Shape              Param #   \n",
            "=================================================================\n",
            "embedding (Embedding)        (None, 1000, 100)         40000000  \n",
            "_________________________________________________________________\n",
            "cu_dnnlstm (CuDNNLSTM)       (None, 196)               233632    \n",
            "_________________________________________________________________\n",
            "dense_16 (Dense)             (None, 1)                 197       \n",
            "=================================================================\n",
            "Total params: 40,233,829\n",
            "Trainable params: 233,829\n",
            "Non-trainable params: 40,000,000\n",
            "_________________________________________________________________\n",
            "None\n"
          ],
          "name": "stdout"
        }
      ]
    },
    {
      "cell_type": "code",
      "metadata": {
        "colab": {
          "base_uri": "https://localhost:8080/"
        },
        "id": "tvQNdQHhmuZT",
        "outputId": "8143cd99-5381-4016-fffd-b0e26827e77a"
      },
      "source": [
        "model = Sequential()\n",
        "model.add(embedding_layer)\n",
        "model.add(tf.compat.v1.keras.layers.CuDNNLSTM(196,kernel_regularizer='l2',recurrent_regularizer='l2'))\n",
        "model.add(layers.Dense(1,activation='sigmoid'))\n",
        "print(model.summary())\n",
        "\n",
        "callback = tf.keras.callbacks.EarlyStopping(\n",
        "    monitor=\"val_loss\",\n",
        "    patience=5,\n",
        "    mode=\"auto\")\n",
        "\n",
        "model.compile(optimizer='rmsprop',loss='binary_crossentropy',metrics=['accuracy'])\n",
        "history = model.fit(train_padded,train_label,batch_size=64,epochs=30,callbacks=[callback],\n",
        "          validation_data=(valid_padded,valid_label),validation_batch_size=32)\n"
      ],
      "execution_count": null,
      "outputs": [
        {
          "output_type": "stream",
          "text": [
            "Model: \"sequential_15\"\n",
            "_________________________________________________________________\n",
            "Layer (type)                 Output Shape              Param #   \n",
            "=================================================================\n",
            "embedding (Embedding)        (None, 1000, 100)         40000000  \n",
            "_________________________________________________________________\n",
            "cu_dnnlstm_3 (CuDNNLSTM)     (None, 196)               233632    \n",
            "_________________________________________________________________\n",
            "dense_19 (Dense)             (None, 1)                 197       \n",
            "=================================================================\n",
            "Total params: 40,233,829\n",
            "Trainable params: 233,829\n",
            "Non-trainable params: 40,000,000\n",
            "_________________________________________________________________\n",
            "None\n",
            "Epoch 1/30\n",
            "625/625 [==============================] - 49s 76ms/step - loss: 1.1611 - accuracy: 0.5783 - val_loss: 0.6464 - val_accuracy: 0.6480\n",
            "Epoch 2/30\n",
            "625/625 [==============================] - 47s 76ms/step - loss: 0.6326 - accuracy: 0.6619 - val_loss: 0.6179 - val_accuracy: 0.6824\n",
            "Epoch 3/30\n",
            "625/625 [==============================] - 48s 76ms/step - loss: 0.6073 - accuracy: 0.6869 - val_loss: 0.6271 - val_accuracy: 0.6646\n",
            "Epoch 4/30\n",
            "625/625 [==============================] - 48s 76ms/step - loss: 0.5994 - accuracy: 0.6888 - val_loss: 0.5869 - val_accuracy: 0.6980\n",
            "Epoch 5/30\n",
            "625/625 [==============================] - 48s 76ms/step - loss: 0.5875 - accuracy: 0.7000 - val_loss: 0.5836 - val_accuracy: 0.7026\n",
            "Epoch 6/30\n",
            "625/625 [==============================] - 48s 76ms/step - loss: 0.5850 - accuracy: 0.6987 - val_loss: 0.5928 - val_accuracy: 0.6926\n",
            "Epoch 7/30\n",
            "625/625 [==============================] - 47s 76ms/step - loss: 0.5800 - accuracy: 0.7001 - val_loss: 0.5810 - val_accuracy: 0.7022\n",
            "Epoch 8/30\n",
            "625/625 [==============================] - 47s 76ms/step - loss: 0.5785 - accuracy: 0.7001 - val_loss: 0.5727 - val_accuracy: 0.7062\n",
            "Epoch 9/30\n",
            "625/625 [==============================] - 47s 76ms/step - loss: 0.5783 - accuracy: 0.7034 - val_loss: 0.5707 - val_accuracy: 0.7048\n",
            "Epoch 10/30\n",
            "625/625 [==============================] - 47s 76ms/step - loss: 0.5776 - accuracy: 0.7021 - val_loss: 0.5804 - val_accuracy: 0.6936\n",
            "Epoch 11/30\n",
            "625/625 [==============================] - 47s 76ms/step - loss: 0.5708 - accuracy: 0.7040 - val_loss: 0.5822 - val_accuracy: 0.6910\n",
            "Epoch 12/30\n",
            "625/625 [==============================] - 47s 76ms/step - loss: 0.5700 - accuracy: 0.7073 - val_loss: 0.5676 - val_accuracy: 0.7140\n",
            "Epoch 13/30\n",
            "625/625 [==============================] - 47s 75ms/step - loss: 0.5734 - accuracy: 0.7077 - val_loss: 0.5651 - val_accuracy: 0.7182\n",
            "Epoch 14/30\n",
            "625/625 [==============================] - 47s 76ms/step - loss: 0.5597 - accuracy: 0.7155 - val_loss: 0.5604 - val_accuracy: 0.7146\n",
            "Epoch 15/30\n",
            "625/625 [==============================] - 47s 76ms/step - loss: 0.5658 - accuracy: 0.7085 - val_loss: 0.5671 - val_accuracy: 0.7090\n",
            "Epoch 16/30\n",
            "625/625 [==============================] - 47s 76ms/step - loss: 0.5613 - accuracy: 0.7141 - val_loss: 0.5631 - val_accuracy: 0.7116\n",
            "Epoch 17/30\n",
            "625/625 [==============================] - 47s 76ms/step - loss: 0.5658 - accuracy: 0.7127 - val_loss: 0.5933 - val_accuracy: 0.6864\n",
            "Epoch 18/30\n",
            "625/625 [==============================] - 47s 76ms/step - loss: 0.5595 - accuracy: 0.7181 - val_loss: 0.5665 - val_accuracy: 0.7106\n",
            "Epoch 19/30\n",
            "625/625 [==============================] - 48s 76ms/step - loss: 0.5603 - accuracy: 0.7157 - val_loss: 0.5625 - val_accuracy: 0.7122\n"
          ],
          "name": "stdout"
        }
      ]
    },
    {
      "cell_type": "code",
      "metadata": {
        "colab": {
          "base_uri": "https://localhost:8080/",
          "height": 590
        },
        "id": "nvK7ICoIrz7H",
        "outputId": "f375b097-c0a5-4526-859c-86fc4f5fd0bc"
      },
      "source": [
        "import matplotlib.pyplot as plt\n",
        "\n",
        "print(history.history.keys())\n",
        "\n",
        "# summarize history for accuracy\n",
        "plt.plot(history.history['accuracy'])\n",
        "plt.plot(history.history['val_accuracy'])\n",
        "plt.title('model accuracy')\n",
        "plt.ylabel('accuracy')\n",
        "plt.xlabel('epoch')\n",
        "plt.legend(['train', 'valid'], loc='upper left')\n",
        "plt.show()\n",
        "# summarize history for loss\n",
        "plt.plot(history.history['loss'])\n",
        "plt.plot(history.history['val_loss'])\n",
        "plt.title('model loss')\n",
        "plt.ylabel('loss')\n",
        "plt.xlabel('epoch')\n",
        "plt.legend(['train', 'valid'], loc='upper left')\n",
        "plt.show()"
      ],
      "execution_count": null,
      "outputs": [
        {
          "output_type": "stream",
          "text": [
            "dict_keys(['loss', 'accuracy', 'val_loss', 'val_accuracy'])\n"
          ],
          "name": "stdout"
        },
        {
          "output_type": "display_data",
          "data": {
            "image/png": "[encoded data removed]",
            "text/plain": [
              "<Figure size 432x288 with 1 Axes>"
            ]
          },
          "metadata": {
            "tags": [],
            "needs_background": "light"
          }
        },
        {
          "output_type": "display_data",
          "data": {
            "image/png": "[encoded data removed]",
            "text/plain": [
              "<Figure size 432x288 with 1 Axes>"
            ]
          },
          "metadata": {
            "tags": [],
            "needs_background": "light"
          }
        }
      ]
    }
  ]
}